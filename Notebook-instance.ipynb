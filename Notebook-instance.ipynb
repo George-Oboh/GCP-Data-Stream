{
 "cells": [
  {
   "cell_type": "code",
   "execution_count": null,
   "metadata": {},
   "outputs": [],
   "source": [
    "%%bash"
   ]
  },
  {
   "cell_type": "code",
   "execution_count": null,
   "metadata": {},
   "outputs": [],
   "source": [
    "export INSTANCE_NAME=\"george-vm\"\n",
    "export VM_IMAGE_PROJECT=\"debian-cloud\"  #TensorFlow Enterprise 2.3\n",
    "export VM_IMAGE_FAMILY=\"tf2-ent-2-3-cu110-notebooks\"\n",
    "export MACHINE_TYPE=\"n1-standard-4\"\n",
    "export LOCATION=\"us-central1-b\""
   ]
  },
  {
   "cell_type": "code",
   "execution_count": null,
   "metadata": {},
   "outputs": [],
   "source": [
    "gcloud beta notebooks instances create $INSTANCE_NAME \\\n",
    "  --vm-image-project=$VM_IMAGE_PROJECT \\\n",
    "  --vm-image-family=$VM_IMAGE_FAMILY \\\n",
    "  --machine-type=$MACHINE_TYPE --location=$LOCATION"
   ]
  },
  {
   "cell_type": "code",
   "execution_count": null,
   "metadata": {},
   "outputs": [],
   "source": [
    "#Open jupyter notebook\n",
    "export PROJECT_ID=\"western-voyage-295200\"\n",
    "export ZONE=\"us-west1-b\"\n",
    "export INSTANCE_NAME=\"george-vm\"\n",
    "gcloud compute ssh --project $PROJECT_ID --zone $ZONE \\\n",
    "  $INSTANCE_NAME -- -L 8080:localhost:8080"
   ]
  },
  {
   "cell_type": "code",
   "execution_count": null,
   "metadata": {},
   "outputs": [],
   "source": [
    "http://localhost:8080 to access JupyterLab."
   ]
  },
  {
   "cell_type": "code",
   "execution_count": null,
   "metadata": {},
   "outputs": [],
   "source": []
  }
 ],
 "metadata": {
  "environment": {
   "name": "tf2-2-3-gpu.2-3.m58",
   "type": "gcloud",
   "uri": "gcr.io/deeplearning-platform-release/tf2-2-3-gpu.2-3:m58"
  },
  "kernelspec": {
   "display_name": "Python 3",
   "language": "python",
   "name": "python3"
  },
  "language_info": {
   "codemirror_mode": {
    "name": "ipython",
    "version": 3
   },
   "file_extension": ".py",
   "mimetype": "text/x-python",
   "name": "python",
   "nbconvert_exporter": "python",
   "pygments_lexer": "ipython3",
   "version": "3.8.5"
  }
 },
 "nbformat": 4,
 "nbformat_minor": 4
}
