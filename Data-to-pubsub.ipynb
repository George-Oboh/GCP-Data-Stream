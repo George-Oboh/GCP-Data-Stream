{
 "cells": [
  {
   "cell_type": "code",
   "execution_count": null,
   "metadata": {},
   "outputs": [],
   "source": [
    "from google.cloud import pubsub_v1\n",
    "from faker import Faker\n",
    "import pandas as pd\n",
    "import random\n",
    "import json"
   ]
  },
  {
   "cell_type": "code",
   "execution_count": null,
   "metadata": {},
   "outputs": [],
   "source": [
    "fake = Faker()"
   ]
  },
  {
   "cell_type": "code",
   "execution_count": null,
   "metadata": {},
   "outputs": [],
   "source": [
    "project_id = \"western-voyage-295200\"\n",
    "topic_id = \"george-sub1\""
   ]
  },
  {
   "cell_type": "code",
   "execution_count": null,
   "metadata": {},
   "outputs": [],
   "source": [
    "def create_rows_faker():\n",
    "    #output = [fake.name(), fake.address(), fake.email(), fake.city(), fake.state(), str(fake.date_time()), str(random.randint(1000,2000))]\n",
    "    #output = ';'.join(output)\n",
    "    output = {\"name\":fake.name(),\n",
    "              \"address\":fake.address(),\n",
    "              \"email\":fake.email(),\n",
    "              \"city\":fake.city(),\n",
    "              \"state\":fake.state(),\n",
    "              \"date_time\":str(fake.date_time()),\n",
    "              \"randint\":str(random.randint(1000,2000))}\n",
    "    output = json.dumps(output)\n",
    "    return output"
   ]
  },
  {
   "cell_type": "code",
   "execution_count": null,
   "metadata": {},
   "outputs": [],
   "source": [
    "create_rows_faker()"
   ]
  },
  {
   "cell_type": "code",
   "execution_count": null,
   "metadata": {},
   "outputs": [],
   "source": [
    "for x in range(1, 5000):\n",
    "    data = create_rows_faker()\n",
    "    # Data must be a bytestring\n",
    "    data = data.encode(\"utf-8\")\n",
    "    # When you publish a message, the client returns a future.\n",
    "    future = publisher.publish(topic_path, data)\n",
    "    print(future.result())\n",
    "\n",
    "print(f\"Published messages to {topic_path}.\")"
   ]
  },
  {
   "cell_type": "code",
   "execution_count": null,
   "metadata": {},
   "outputs": [],
   "source": []
  }
 ],
 "metadata": {
  "environment": {
   "name": "tf2-2-3-gpu.2-3.m58",
   "type": "gcloud",
   "uri": "gcr.io/deeplearning-platform-release/tf2-2-3-gpu.2-3:m58"
  },
  "kernelspec": {
   "display_name": "Python 3",
   "language": "python",
   "name": "python3"
  },
  "language_info": {
   "codemirror_mode": {
    "name": "ipython",
    "version": 3
   },
   "file_extension": ".py",
   "mimetype": "text/x-python",
   "name": "python",
   "nbconvert_exporter": "python",
   "pygments_lexer": "ipython3",
   "version": "3.8.5"
  }
 },
 "nbformat": 4,
 "nbformat_minor": 4
}
