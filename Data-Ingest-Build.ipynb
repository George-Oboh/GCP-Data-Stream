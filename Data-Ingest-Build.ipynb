{
 "cells": [
  {
   "cell_type": "code",
   "execution_count": null,
   "metadata": {},
   "outputs": [],
   "source": [
    "from google.cloud import pubsub_v1\n",
    "from google.cloud import storage\n",
    "from google.cloud import bigquery\n",
    "from faker import Faker\n",
    "import pandas as pd\n",
    "import random\n",
    "import json"
   ]
  },
  {
   "cell_type": "code",
   "execution_count": null,
   "metadata": {},
   "outputs": [],
   "source": [
    "project_id = \"western-voyage-295200\"\n",
    "topic_id = \"george-sub1\""
   ]
  },
  {
   "cell_type": "code",
   "execution_count": null,
   "metadata": {},
   "outputs": [],
   "source": [
    "def create_topic(project_id, topic_id):\n",
    "    publisher = pubsub_v1.PublisherClient()\n",
    "    topic_path = publisher.topic_path(project_id, topic_id)\n",
    "\n",
    "    #topic = publisher.create_topic(request={\"george-pub-sub\": topic_path})\n",
    "    topic = publisher.create_topic(topic_path)\n",
    "\n",
    "    print(\"Created topic: {}\".format(topic.name))"
   ]
  },
  {
   "cell_type": "code",
   "execution_count": null,
   "metadata": {},
   "outputs": [],
   "source": [
    "def create_subscription(project_id, topic_id):\n",
    "    subscription_id = \"george-sub1\"\n",
    "    subscriber = pubsub_v1.SubscriberClient()\n",
    "    subscription_path = subscriber.subscription_path(project_id, subscription_id)\n",
    "\n",
    "    with subscriber:\n",
    "    subscription = subscriber.create_subscription(\n",
    "        subscription_path, topic_path\n",
    "    )\n",
    "\n",
    "    print(f\"Subscription created: {subscription}\")"
   ]
  },
  {
   "cell_type": "code",
   "execution_count": 4,
   "metadata": {},
   "outputs": [],
   "source": [
    "def create_bigquery():\n",
    "    client = bigquery.Client()\n",
    "\n",
    "    table_id = western-voyage-295200.george1.George_BQ_table\"\n",
    "\n",
    "    schema = [\n",
    "        bigquery.SchemaField(\"name\", \"STRING\", mode=\"REQUIRED\"),\n",
    "        bigquery.SchemaField(\"address\", \"STRING\", mode=\"REQUIRED\"),\n",
    "        bigquery.SchemaField(\"email\", \"STRING\", mode=\"REQUIRED\"),\n",
    "        bigquery.SchemaField(\"city\", \"STRING\", mode=\"REQUIRED\"),\n",
    "        bigquery.SchemaField(\"state\", \"STRING\", mode=\"REQUIRED\"),\n",
    "        bigquery.SchemaField(\"date_time\", \"STRING\", mode=\"REQUIRED\"),\n",
    "        bigquery.SchemaField(\"randint\", \"STRING\", mode=\"REQUIRED\"),\n",
    "    ]\n",
    "\n",
    "    table = bigquery.Table(table_id, schema=schema)\n",
    "    table = client.create_table(table)\n",
    "    print(\n",
    "    \"Created table {}.{}.{}\".format(table.project, table.dataset_id, table.table_id)\n",
    "    )\n"
   ]
  },
  {
   "cell_type": "code",
   "execution_count": null,
   "metadata": {},
   "outputs": [],
   "source": [
    "def create_bucket():\n",
    "    storage_client = storage.Client()\n",
    "\n",
    "    bucket_name = \"george-bucket-temp\"\n",
    "    bucket = storage_client.create_bucket(bucket_name)\n",
    "\n",
    "    print(\"Bucket {} created.\".format(bucket.name))"
   ]
  },
  {
   "cell_type": "code",
   "execution_count": null,
   "metadata": {},
   "outputs": [],
   "source": []
  }
 ],
 "metadata": {
  "environment": {
   "name": "tf2-2-3-gpu.2-3.m58",
   "type": "gcloud",
   "uri": "gcr.io/deeplearning-platform-release/tf2-2-3-gpu.2-3:m58"
  },
  "kernelspec": {
   "display_name": "Python 3",
   "language": "python",
   "name": "python3"
  },
  "language_info": {
   "codemirror_mode": {
    "name": "ipython",
    "version": 3
   },
   "file_extension": ".py",
   "mimetype": "text/x-python",
   "name": "python",
   "nbconvert_exporter": "python",
   "pygments_lexer": "ipython3",
   "version": "3.8.5"
  }
 },
 "nbformat": 4,
 "nbformat_minor": 4
}
