{
 "cells": [
  {
   "cell_type": "code",
   "execution_count": null,
   "metadata": {},
   "outputs": [],
   "source": [
    "gcloud dataflow jobs run Data-Ingest-stream \\   #Create Dataflow job\n",
    "    --gcs-location gs://dataflow-templates/latest/PubSub_to_BigQuery \\\n",
    "    --region us-west1 \\\n",
    "    --staging-location gs://george-bucket-temp/temp \\\n",
    "    --parameters \\\n",
    "inputTopic=projects/western-voyage-295200/topics/projects/western-voyage-295200/topics/george-sub1,\\\n",
    "outputTableSpec=western-voyage-295200:george1.George_BQ_table"
   ]
  }
 ],
 "metadata": {
  "environment": {
   "name": "tf2-2-3-gpu.2-3.m58",
   "type": "gcloud",
   "uri": "gcr.io/deeplearning-platform-release/tf2-2-3-gpu.2-3:m58"
  },
  "kernelspec": {
   "display_name": "Python 3",
   "language": "python",
   "name": "python3"
  },
  "language_info": {
   "codemirror_mode": {
    "name": "ipython",
    "version": 3
   },
   "file_extension": ".py",
   "mimetype": "text/x-python",
   "name": "python",
   "nbconvert_exporter": "python",
   "pygments_lexer": "ipython3",
   "version": "3.8.5"
  }
 },
 "nbformat": 4,
 "nbformat_minor": 4
}
